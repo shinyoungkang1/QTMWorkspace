{
 "cells": [
  {
   "cell_type": "markdown",
   "metadata": {},
   "source": [
    "# QTM350 Project: Predicting the number of COVID-19 cases for California and New York"
   ]
  },
  {
   "cell_type": "markdown",
   "metadata": {},
   "source": [
    "## Members: Shinyoung Kang, Sunny Chung"
   ]
  },
  {
   "cell_type": "markdown",
   "metadata": {},
   "source": [
    "Covid-19 has become a pandemic disease that has led many countries around the globe for a shutdown. While some countries are starting to open up, we are still unsure as to when the crisis may end. We expect that coronavirus will have at least two big waves where number of cases drastically increase and decrease because of the nature of pandemic disease. With the use of current data collected from johns Hopkins university on number of cases, we attempt to answer when the crisis may end, at least for the first wave of crisis. We use nonlinear regression to fit a model, predicting when the first wave may end, potentially expect when would be the most appropriate time to go out.\n",
    "\n",
    "## Data Collection, Preparation, and Feature Engineering\n",
    "\n",
    "We decided to use open data lake from AWS to pull specifically the number of cases confirmed from United States only. We used AWS CLI to pull publicly available S3 bucket called covid19-lake, where they have variety of data related to coronavirus. Our ETL (Extract, Transform, Load) process simply collects the data on all the cases in United States, then extract just the ones for New York and California, where the number of coronavirus is the highest."
   ]
  },
  {
   "cell_type": "markdown",
   "metadata": {},
   "source": [
    "We first download the COVID-19 data from AWS"
   ]
  },
  {
   "cell_type": "code",
   "execution_count": 1,
   "metadata": {},
   "outputs": [
    {
     "name": "stdout",
     "output_type": "stream",
     "text": [
      "                           PRE alleninstitute/\n",
      "                           PRE cfn/\n",
      "                           PRE covid_knowledge_graph/\n",
      "                           PRE covidcast/\n",
      "                           PRE enigma-jhu-timeseries/\n",
      "                           PRE enigma-jhu/\n",
      "                           PRE enigma-nytimes-data-in-usa/\n",
      "                           PRE rearc-covid-19-nyt-data-in-usa/\n",
      "                           PRE rearc-covid-19-prediction-models/\n",
      "                           PRE rearc-covid-19-testing-data/\n",
      "                           PRE rearc-usa-hospital-beds/\n",
      "                           PRE safegraph-open-census-data/\n",
      "                           PRE static-datasets/\n",
      "                           PRE tableau-jhu/\n",
      "2020-04-09 16:03:39       9328 dashboard.html\n",
      "2020-04-07 06:22:16      23116 databrowser.html\n",
      "2020-04-07 06:35:31      23116 index.html\n"
     ]
    }
   ],
   "source": [
    "!aws s3 ls s3://covid19-lake --no-sign-request"
   ]
  },
  {
   "cell_type": "code",
   "execution_count": 5,
   "metadata": {},
   "outputs": [
    {
     "name": "stdout",
     "output_type": "stream",
     "text": [
      "download: s3://covid19-lake/rearc-covid-19-nyt-data-in-usa/csv/us-states/us-states.csv to ./us-states.csv\n"
     ]
    }
   ],
   "source": [
    "!aws s3 cp s3://covid19-lake/rearc-covid-19-nyt-data-in-usa/csv/us-states/us-states.csv . --no-sign-request"
   ]
  },
  {
   "cell_type": "markdown",
   "metadata": {},
   "source": [
    "Then we read the csv file using `pd.read_csv()`"
   ]
  },
  {
   "cell_type": "code",
   "execution_count": 7,
   "metadata": {},
   "outputs": [],
   "source": [
    "# importing pandas as pd \n",
    "import pandas as pd \n",
    "  \n",
    "# Creating the dataframe  \n",
    "df = pd.read_csv(\"us-states.csv\") \n",
    "  \n",
    "# Look at the dataframe \n",
    "df.describe()"
   ]
  },
  {
   "cell_type": "markdown",
   "metadata": {},
   "source": [
    "In order to start ordering the data, we first group the data by states since we want to know the cases for each state."
   ]
  },
  {
   "cell_type": "code",
   "execution_count": 42,
   "metadata": {},
   "outputs": [],
   "source": [
    "import numpy as np\n",
    "import matplotlib.pyplot as plt\n",
    "\n",
    "# applying groupby() function to \n",
    "data = df.groupby('state')"
   ]
  },
  {
   "cell_type": "markdown",
   "metadata": {},
   "source": [
    "Then we create a separate COVID-19 variable for California and New York using `get_group()`"
   ]
  },
  {
   "cell_type": "code",
   "execution_count": 49,
   "metadata": {},
   "outputs": [],
   "source": [
    "covidcali = data.get_group('California')\n",
    "covidny = data.get_group('New York')"
   ]
  },
  {
   "cell_type": "markdown",
   "metadata": {},
   "source": [
    "Since cases go up to a high number we will also look at logged cases."
   ]
  },
  {
   "cell_type": "code",
   "execution_count": 245,
   "metadata": {},
   "outputs": [
    {
     "name": "stderr",
     "output_type": "stream",
     "text": [
      "/home/ec2-user/anaconda3/envs/python3/lib/python3.6/site-packages/ipykernel/__main__.py:14: SettingWithCopyWarning: \n",
      "A value is trying to be set on a copy of a slice from a DataFrame.\n",
      "Try using .loc[row_indexer,col_indexer] = value instead\n",
      "\n",
      "See the caveats in the documentation: http://pandas.pydata.org/pandas-docs/stable/indexing.html#indexing-view-versus-copy\n",
      "/home/ec2-user/anaconda3/envs/python3/lib/python3.6/site-packages/ipykernel/__main__.py:15: SettingWithCopyWarning: \n",
      "A value is trying to be set on a copy of a slice from a DataFrame.\n",
      "Try using .loc[row_indexer,col_indexer] = value instead\n",
      "\n",
      "See the caveats in the documentation: http://pandas.pydata.org/pandas-docs/stable/indexing.html#indexing-view-versus-copy\n"
     ]
    }
   ],
   "source": [
    "import math\n",
    "import numpy as np\n",
    "import matplotlib.pyplot as plt\n",
    "from sklearn.pipeline import Pipeline\n",
    "from sklearn.preprocessing import PolynomialFeatures\n",
    "from sklearn.linear_model import LinearRegression\n",
    "from sklearn.model_selection import cross_val_score\n",
    "import seaborn as seabornInstance \n",
    "from sklearn.model_selection import train_test_split \n",
    "from sklearn.linear_model import LinearRegression\n",
    "from sklearn import metrics\n",
    "%matplotlib inline\n",
    "\n",
    "covidcali['logcases'] = np.log10(covidcali['cases'])\n",
    "covidny['logcases'] = np.log10(covidny['cases'])"
   ]
  },
  {
   "cell_type": "markdown",
   "metadata": {},
   "source": [
    "Since indexing is different for California and New York, we want to create another variable that will have the index starting as 1 as Day one."
   ]
  },
  {
   "cell_type": "code",
   "execution_count": 242,
   "metadata": {},
   "outputs": [
    {
     "name": "stderr",
     "output_type": "stream",
     "text": [
      "/home/ec2-user/anaconda3/envs/python3/lib/python3.6/site-packages/ipykernel/__main__.py:2: SettingWithCopyWarning: \n",
      "A value is trying to be set on a copy of a slice from a DataFrame.\n",
      "Try using .loc[row_indexer,col_indexer] = value instead\n",
      "\n",
      "See the caveats in the documentation: http://pandas.pydata.org/pandas-docs/stable/indexing.html#indexing-view-versus-copy\n",
      "  from ipykernel import kernelapp as app\n",
      "/home/ec2-user/anaconda3/envs/python3/lib/python3.6/site-packages/ipykernel/__main__.py:3: SettingWithCopyWarning: \n",
      "A value is trying to be set on a copy of a slice from a DataFrame.\n",
      "Try using .loc[row_indexer,col_indexer] = value instead\n",
      "\n",
      "See the caveats in the documentation: http://pandas.pydata.org/pandas-docs/stable/indexing.html#indexing-view-versus-copy\n",
      "  app.launch_new_instance()\n"
     ]
    }
   ],
   "source": [
    "# Using DataFrame.insert() to add a column \n",
    "covidcali['newindex'] = range(1, len(covidcali) + 1)\n",
    "covidny['newindex'] = range(1, len(covidny) + 1)"
   ]
  },
  {
   "cell_type": "markdown",
   "metadata": {},
   "source": [
    "Explore data a little bit by checking the number of rows and columns in our data using `shape()`"
   ]
  },
  {
   "cell_type": "code",
   "execution_count": 212,
   "metadata": {},
   "outputs": [
    {
     "data": {
      "text/plain": [
       "(98, 7)"
      ]
     },
     "execution_count": 212,
     "metadata": {},
     "output_type": "execute_result"
    }
   ],
   "source": [
    "covidcali.shape"
   ]
  },
  {
   "cell_type": "code",
   "execution_count": 211,
   "metadata": {},
   "outputs": [
    {
     "data": {
      "text/plain": [
       "(62, 6)"
      ]
     },
     "execution_count": 211,
     "metadata": {},
     "output_type": "execute_result"
    }
   ],
   "source": [
    "covidny.shape"
   ]
  },
  {
   "cell_type": "markdown",
   "metadata": {},
   "source": [
    "Using `describe()` we can look at the mean, std, percentiles of the varaibles of the data"
   ]
  },
  {
   "cell_type": "code",
   "execution_count": 243,
   "metadata": {},
   "outputs": [
    {
     "data": {
      "text/html": [
       "<div>\n",
       "<style scoped>\n",
       "    .dataframe tbody tr th:only-of-type {\n",
       "        vertical-align: middle;\n",
       "    }\n",
       "\n",
       "    .dataframe tbody tr th {\n",
       "        vertical-align: top;\n",
       "    }\n",
       "\n",
       "    .dataframe thead th {\n",
       "        text-align: right;\n",
       "    }\n",
       "</style>\n",
       "<table border=\"1\" class=\"dataframe\">\n",
       "  <thead>\n",
       "    <tr style=\"text-align: right;\">\n",
       "      <th></th>\n",
       "      <th>fips</th>\n",
       "      <th>cases</th>\n",
       "      <th>deaths</th>\n",
       "      <th>newindex</th>\n",
       "      <th>logcases</th>\n",
       "    </tr>\n",
       "  </thead>\n",
       "  <tbody>\n",
       "    <tr>\n",
       "      <th>count</th>\n",
       "      <td>98.0</td>\n",
       "      <td>98.000000</td>\n",
       "      <td>98.000000</td>\n",
       "      <td>98.000000</td>\n",
       "      <td>98.000000</td>\n",
       "    </tr>\n",
       "    <tr>\n",
       "      <th>mean</th>\n",
       "      <td>6.0</td>\n",
       "      <td>9931.693878</td>\n",
       "      <td>341.122449</td>\n",
       "      <td>49.500000</td>\n",
       "      <td>2.564156</td>\n",
       "    </tr>\n",
       "    <tr>\n",
       "      <th>std</th>\n",
       "      <td>0.0</td>\n",
       "      <td>15253.997432</td>\n",
       "      <td>587.397217</td>\n",
       "      <td>28.434134</td>\n",
       "      <td>1.584257</td>\n",
       "    </tr>\n",
       "    <tr>\n",
       "      <th>min</th>\n",
       "      <td>6.0</td>\n",
       "      <td>1.000000</td>\n",
       "      <td>0.000000</td>\n",
       "      <td>1.000000</td>\n",
       "      <td>0.000000</td>\n",
       "    </tr>\n",
       "    <tr>\n",
       "      <th>25%</th>\n",
       "      <td>6.0</td>\n",
       "      <td>7.000000</td>\n",
       "      <td>0.000000</td>\n",
       "      <td>25.250000</td>\n",
       "      <td>0.845098</td>\n",
       "    </tr>\n",
       "    <tr>\n",
       "      <th>50%</th>\n",
       "      <td>6.0</td>\n",
       "      <td>350.500000</td>\n",
       "      <td>5.000000</td>\n",
       "      <td>49.500000</td>\n",
       "      <td>2.543037</td>\n",
       "    </tr>\n",
       "    <tr>\n",
       "      <th>75%</th>\n",
       "      <td>6.0</td>\n",
       "      <td>17226.000000</td>\n",
       "      <td>431.750000</td>\n",
       "      <td>73.750000</td>\n",
       "      <td>4.235962</td>\n",
       "    </tr>\n",
       "    <tr>\n",
       "      <th>max</th>\n",
       "      <td>6.0</td>\n",
       "      <td>52318.000000</td>\n",
       "      <td>2147.000000</td>\n",
       "      <td>98.000000</td>\n",
       "      <td>4.718651</td>\n",
       "    </tr>\n",
       "  </tbody>\n",
       "</table>\n",
       "</div>"
      ],
      "text/plain": [
       "       fips         cases       deaths   newindex   logcases\n",
       "count  98.0     98.000000    98.000000  98.000000  98.000000\n",
       "mean    6.0   9931.693878   341.122449  49.500000   2.564156\n",
       "std     0.0  15253.997432   587.397217  28.434134   1.584257\n",
       "min     6.0      1.000000     0.000000   1.000000   0.000000\n",
       "25%     6.0      7.000000     0.000000  25.250000   0.845098\n",
       "50%     6.0    350.500000     5.000000  49.500000   2.543037\n",
       "75%     6.0  17226.000000   431.750000  73.750000   4.235962\n",
       "max     6.0  52318.000000  2147.000000  98.000000   4.718651"
      ]
     },
     "execution_count": 243,
     "metadata": {},
     "output_type": "execute_result"
    }
   ],
   "source": [
    "covidcali.describe()"
   ]
  },
  {
   "cell_type": "code",
   "execution_count": 244,
   "metadata": {},
   "outputs": [
    {
     "data": {
      "text/html": [
       "<div>\n",
       "<style scoped>\n",
       "    .dataframe tbody tr th:only-of-type {\n",
       "        vertical-align: middle;\n",
       "    }\n",
       "\n",
       "    .dataframe tbody tr th {\n",
       "        vertical-align: top;\n",
       "    }\n",
       "\n",
       "    .dataframe thead th {\n",
       "        text-align: right;\n",
       "    }\n",
       "</style>\n",
       "<table border=\"1\" class=\"dataframe\">\n",
       "  <thead>\n",
       "    <tr style=\"text-align: right;\">\n",
       "      <th></th>\n",
       "      <th>fips</th>\n",
       "      <th>cases</th>\n",
       "      <th>deaths</th>\n",
       "      <th>newindex</th>\n",
       "      <th>logcases</th>\n",
       "    </tr>\n",
       "  </thead>\n",
       "  <tbody>\n",
       "    <tr>\n",
       "      <th>count</th>\n",
       "      <td>62.0</td>\n",
       "      <td>62.000000</td>\n",
       "      <td>62.000000</td>\n",
       "      <td>62.000000</td>\n",
       "      <td>62.000000</td>\n",
       "    </tr>\n",
       "    <tr>\n",
       "      <th>mean</th>\n",
       "      <td>36.0</td>\n",
       "      <td>112973.564516</td>\n",
       "      <td>5735.209677</td>\n",
       "      <td>31.500000</td>\n",
       "      <td>4.143196</td>\n",
       "    </tr>\n",
       "    <tr>\n",
       "      <th>std</th>\n",
       "      <td>0.0</td>\n",
       "      <td>111337.500597</td>\n",
       "      <td>6735.724682</td>\n",
       "      <td>18.041619</td>\n",
       "      <td>1.564312</td>\n",
       "    </tr>\n",
       "    <tr>\n",
       "      <th>min</th>\n",
       "      <td>36.0</td>\n",
       "      <td>1.000000</td>\n",
       "      <td>0.000000</td>\n",
       "      <td>1.000000</td>\n",
       "      <td>0.000000</td>\n",
       "    </tr>\n",
       "    <tr>\n",
       "      <th>25%</th>\n",
       "      <td>36.0</td>\n",
       "      <td>1056.000000</td>\n",
       "      <td>11.750000</td>\n",
       "      <td>16.250000</td>\n",
       "      <td>3.017789</td>\n",
       "    </tr>\n",
       "    <tr>\n",
       "      <th>50%</th>\n",
       "      <td>36.0</td>\n",
       "      <td>79860.500000</td>\n",
       "      <td>1745.500000</td>\n",
       "      <td>31.500000</td>\n",
       "      <td>4.901779</td>\n",
       "    </tr>\n",
       "    <tr>\n",
       "      <th>75%</th>\n",
       "      <td>36.0</td>\n",
       "      <td>220157.750000</td>\n",
       "      <td>12040.500000</td>\n",
       "      <td>46.750000</td>\n",
       "      <td>5.342672</td>\n",
       "    </tr>\n",
       "    <tr>\n",
       "      <th>max</th>\n",
       "      <td>36.0</td>\n",
       "      <td>308345.000000</td>\n",
       "      <td>18610.000000</td>\n",
       "      <td>62.000000</td>\n",
       "      <td>5.489037</td>\n",
       "    </tr>\n",
       "  </tbody>\n",
       "</table>\n",
       "</div>"
      ],
      "text/plain": [
       "       fips          cases        deaths   newindex   logcases\n",
       "count  62.0      62.000000     62.000000  62.000000  62.000000\n",
       "mean   36.0  112973.564516   5735.209677  31.500000   4.143196\n",
       "std     0.0  111337.500597   6735.724682  18.041619   1.564312\n",
       "min    36.0       1.000000      0.000000   1.000000   0.000000\n",
       "25%    36.0    1056.000000     11.750000  16.250000   3.017789\n",
       "50%    36.0   79860.500000   1745.500000  31.500000   4.901779\n",
       "75%    36.0  220157.750000  12040.500000  46.750000   5.342672\n",
       "max    36.0  308345.000000  18610.000000  62.000000   5.489037"
      ]
     },
     "execution_count": 244,
     "metadata": {},
     "output_type": "execute_result"
    }
   ],
   "source": [
    "covidny.describe()"
   ]
  },
  {
   "cell_type": "markdown",
   "metadata": {},
   "source": [
    "Now, we reshape the data using `reshape(1, -1)` to get a 1D array"
   ]
  },
  {
   "cell_type": "code",
   "execution_count": 246,
   "metadata": {},
   "outputs": [],
   "source": [
    "X = covidcali[\"newindex\"].values.reshape(1,-1)\n",
    "Y = covidcali[\"cases\"].values.reshape(1,-1)\n",
    "X1 = covidcali[\"newindex\"].values.reshape(1,-1)\n",
    "Y1 = covidcali[\"logcases\"].values.reshape(1,-1)"
   ]
  },
  {
   "cell_type": "code",
   "execution_count": 247,
   "metadata": {},
   "outputs": [],
   "source": [
    "X2 = covidny[\"newindex\"].values.reshape(1,-1)\n",
    "Y2 = covidny[\"cases\"].values.reshape(1,-1)\n",
    "X3 = covidny[\"newindex\"].values.reshape(1,-1)\n",
    "Y3 = covidny[\"logcases\"].values.reshape(1,-1)"
   ]
  },
  {
   "cell_type": "markdown",
   "metadata": {},
   "source": [
    "## Looking at graphs to see how linear regression fits"
   ]
  },
  {
   "cell_type": "markdown",
   "metadata": {},
   "source": [
    "Lets first take a look at linear regresion of California"
   ]
  },
  {
   "cell_type": "code",
   "execution_count": 248,
   "metadata": {},
   "outputs": [
    {
     "data": {
      "image/png": "[encoded data removed]",
      "text/plain": [
       "<Figure size 432x288 with 1 Axes>"
      ]
     },
     "metadata": {},
     "output_type": "display_data"
    }
   ],
   "source": [
    "# Fitting Linear Regression to the logged dataset \n",
    "from sklearn.linear_model import LinearRegression\n",
    "lin_reg = LinearRegression().fit(X, Y) \n",
    "m, b = np.polyfit(X[0], lin_reg.predict(X)[0], 1) \n",
    "a = m*X + b\n",
    "# Visualizing the Linear Regression results\n",
    "def viz_linear():\n",
    "    plt.scatter(X, Y, color='red')\n",
    "    plt.plot(X, lin_reg.predict(X), color='blue')\n",
    "    plt.plot(X[0][:],a[0], color = 'blue')        #####Calculating will give Best line of Fit\n",
    "    plt.title('COVID-19 for California')\n",
    "    plt.xlabel('Days')\n",
    "    plt.ylabel('COVID-19 Cases')\n",
    "    plt.show()\n",
    "    return\n",
    "viz_linear()"
   ]
  },
  {
   "cell_type": "markdown",
   "metadata": {},
   "source": [
    "On the 100th day from the beginning the prediction will be that there are `100*m + b` number of cases on the \"m th\" day."
   ]
  },
  {
   "cell_type": "code",
   "execution_count": 227,
   "metadata": {},
   "outputs": [
    {
     "data": {
      "text/plain": [
       "32385.5356425607"
      ]
     },
     "execution_count": 227,
     "metadata": {},
     "output_type": "execute_result"
    }
   ],
   "source": [
    "100*m+b"
   ]
  },
  {
   "cell_type": "markdown",
   "metadata": {},
   "source": [
    "Expected number of 32386 people infected."
   ]
  },
  {
   "cell_type": "markdown",
   "metadata": {},
   "source": [
    "Similarly, now lets take a look at New York"
   ]
  },
  {
   "cell_type": "code",
   "execution_count": 259,
   "metadata": {},
   "outputs": [
    {
     "data": {
      "image/png": "[encoded data removed]",
      "text/plain": [
       "<Figure size 432x288 with 1 Axes>"
      ]
     },
     "metadata": {},
     "output_type": "display_data"
    }
   ],
   "source": [
    "# Fitting Linear Regression to the logged dataset \n",
    "from sklearn.linear_model import LinearRegression\n",
    "lin_reg = LinearRegression().fit(X2, Y2) \n",
    "m, b = np.polyfit(X2[0], lin_reg.predict(X2)[0], 1) \n",
    "a = m*X + b\n",
    "# Visualizing the Linear Regression results\n",
    "def viz_linear():\n",
    "    plt.scatter(X2, Y2, color='red')\n",
    "    plt.plot(X2, lin_reg.predict(X2), color='blue')\n",
    "    plt.plot(X[0][:],a[0], color = 'blue')        #####Calculating will give Best line of Fit\n",
    "    plt.title('COVID-19 for New York')\n",
    "    plt.xlabel('Days')\n",
    "    plt.ylabel('COVID-19 Cases')\n",
    "    plt.show()\n",
    "    return\n",
    "viz_linear()"
   ]
  },
  {
   "cell_type": "code",
   "execution_count": 260,
   "metadata": {},
   "outputs": [
    {
     "data": {
      "text/plain": [
       "342186.93900934263"
      ]
     },
     "execution_count": 260,
     "metadata": {},
     "output_type": "execute_result"
    }
   ],
   "source": [
    "70*m+b"
   ]
  },
  {
   "cell_type": "markdown",
   "metadata": {},
   "source": [
    "On the 70th day, New York will have an estimated number of 342187 cases of COVID-19."
   ]
  },
  {
   "cell_type": "markdown",
   "metadata": {},
   "source": [
    "## Looking at Logged Cases"
   ]
  },
  {
   "cell_type": "markdown",
   "metadata": {},
   "source": [
    "Lets now take a quick look at the logged cases for California and New York"
   ]
  },
  {
   "cell_type": "code",
   "execution_count": 262,
   "metadata": {},
   "outputs": [
    {
     "data": {
      "image/png": "[encoded data removed]",
      "text/plain": [
       "<Figure size 432x288 with 1 Axes>"
      ]
     },
     "metadata": {},
     "output_type": "display_data"
    }
   ],
   "source": [
    "# Fitting Linear Regression to the logged dataset \n",
    "from sklearn.linear_model import LinearRegression\n",
    "lin_reg = LinearRegression().fit(X1, Y1) \n",
    "m, b = np.polyfit(X1[0], lin_reg.predict(X1)[0], 1) \n",
    "a = m*X + b\n",
    "# Visualizing the Linear Regression results\n",
    "def viz_linear():\n",
    "    plt.scatter(X1, Y1, color='red')\n",
    "    plt.plot(X1, lin_reg.predict(X1), color='blue')\n",
    "    plt.plot(X[0][:],a[0], color = 'blue')        #####Calculating will give Best line of Fit\n",
    "    plt.title('COVID-19 for California')\n",
    "    plt.xlabel('Days')\n",
    "    plt.ylabel('COVID-19 Cases(logged)')\n",
    "    plt.show()\n",
    "    return\n",
    "viz_linear()"
   ]
  },
  {
   "cell_type": "markdown",
   "metadata": {},
   "source": [
    "On the 100th day from the beginning the prediction will be that there are 10 to the logged predicted value"
   ]
  },
  {
   "cell_type": "code",
   "execution_count": 251,
   "metadata": {},
   "outputs": [
    {
     "data": {
      "text/plain": [
       "213812.85663244087"
      ]
     },
     "execution_count": 251,
     "metadata": {},
     "output_type": "execute_result"
    }
   ],
   "source": [
    "10**(m*100+b)"
   ]
  },
  {
   "cell_type": "markdown",
   "metadata": {},
   "source": [
    "Although it seems as if the data shows a closer answer to the COVID-19 cases than normal regression, the logged cases gives a difference in about \"0.5\" which is equivalent to 3 times the value."
   ]
  },
  {
   "cell_type": "markdown",
   "metadata": {},
   "source": [
    "Here is a quick example of comparing the actual and predicted values. THey are very close as you can see there is almost minimal difference among the actual and predicted."
   ]
  },
  {
   "cell_type": "code",
   "execution_count": 264,
   "metadata": {},
   "outputs": [
    {
     "data": {
      "text/html": [
       "<div>\n",
       "<style scoped>\n",
       "    .dataframe tbody tr th:only-of-type {\n",
       "        vertical-align: middle;\n",
       "    }\n",
       "\n",
       "    .dataframe tbody tr th {\n",
       "        vertical-align: top;\n",
       "    }\n",
       "\n",
       "    .dataframe thead th {\n",
       "        text-align: right;\n",
       "    }\n",
       "</style>\n",
       "<table border=\"1\" class=\"dataframe\">\n",
       "  <thead>\n",
       "    <tr style=\"text-align: right;\">\n",
       "      <th></th>\n",
       "      <th>Actual</th>\n",
       "      <th>Predicted</th>\n",
       "    </tr>\n",
       "  </thead>\n",
       "  <tbody>\n",
       "    <tr>\n",
       "      <th>0</th>\n",
       "      <td>0.000000</td>\n",
       "      <td>-0.092181</td>\n",
       "    </tr>\n",
       "    <tr>\n",
       "      <th>1</th>\n",
       "      <td>0.301030</td>\n",
       "      <td>-0.037411</td>\n",
       "    </tr>\n",
       "    <tr>\n",
       "      <th>2</th>\n",
       "      <td>0.301030</td>\n",
       "      <td>0.017359</td>\n",
       "    </tr>\n",
       "    <tr>\n",
       "      <th>3</th>\n",
       "      <td>0.301030</td>\n",
       "      <td>0.072128</td>\n",
       "    </tr>\n",
       "    <tr>\n",
       "      <th>4</th>\n",
       "      <td>0.301030</td>\n",
       "      <td>0.126898</td>\n",
       "    </tr>\n",
       "    <tr>\n",
       "      <th>5</th>\n",
       "      <td>0.301030</td>\n",
       "      <td>0.181668</td>\n",
       "    </tr>\n",
       "    <tr>\n",
       "      <th>6</th>\n",
       "      <td>0.477121</td>\n",
       "      <td>0.236438</td>\n",
       "    </tr>\n",
       "    <tr>\n",
       "      <th>7</th>\n",
       "      <td>0.477121</td>\n",
       "      <td>0.291208</td>\n",
       "    </tr>\n",
       "    <tr>\n",
       "      <th>8</th>\n",
       "      <td>0.778151</td>\n",
       "      <td>0.345978</td>\n",
       "    </tr>\n",
       "    <tr>\n",
       "      <th>9</th>\n",
       "      <td>0.778151</td>\n",
       "      <td>0.400748</td>\n",
       "    </tr>\n",
       "    <tr>\n",
       "      <th>10</th>\n",
       "      <td>0.778151</td>\n",
       "      <td>0.455517</td>\n",
       "    </tr>\n",
       "    <tr>\n",
       "      <th>11</th>\n",
       "      <td>0.778151</td>\n",
       "      <td>0.510287</td>\n",
       "    </tr>\n",
       "    <tr>\n",
       "      <th>12</th>\n",
       "      <td>0.778151</td>\n",
       "      <td>0.565057</td>\n",
       "    </tr>\n",
       "    <tr>\n",
       "      <th>13</th>\n",
       "      <td>0.778151</td>\n",
       "      <td>0.619827</td>\n",
       "    </tr>\n",
       "    <tr>\n",
       "      <th>14</th>\n",
       "      <td>0.778151</td>\n",
       "      <td>0.674597</td>\n",
       "    </tr>\n",
       "    <tr>\n",
       "      <th>15</th>\n",
       "      <td>0.778151</td>\n",
       "      <td>0.729367</td>\n",
       "    </tr>\n",
       "    <tr>\n",
       "      <th>16</th>\n",
       "      <td>0.845098</td>\n",
       "      <td>0.784136</td>\n",
       "    </tr>\n",
       "    <tr>\n",
       "      <th>17</th>\n",
       "      <td>0.845098</td>\n",
       "      <td>0.838906</td>\n",
       "    </tr>\n",
       "    <tr>\n",
       "      <th>18</th>\n",
       "      <td>0.845098</td>\n",
       "      <td>0.893676</td>\n",
       "    </tr>\n",
       "    <tr>\n",
       "      <th>19</th>\n",
       "      <td>0.845098</td>\n",
       "      <td>0.948446</td>\n",
       "    </tr>\n",
       "    <tr>\n",
       "      <th>20</th>\n",
       "      <td>0.845098</td>\n",
       "      <td>1.003216</td>\n",
       "    </tr>\n",
       "    <tr>\n",
       "      <th>21</th>\n",
       "      <td>0.845098</td>\n",
       "      <td>1.057986</td>\n",
       "    </tr>\n",
       "    <tr>\n",
       "      <th>22</th>\n",
       "      <td>0.845098</td>\n",
       "      <td>1.112756</td>\n",
       "    </tr>\n",
       "    <tr>\n",
       "      <th>23</th>\n",
       "      <td>0.845098</td>\n",
       "      <td>1.167525</td>\n",
       "    </tr>\n",
       "    <tr>\n",
       "      <th>24</th>\n",
       "      <td>0.845098</td>\n",
       "      <td>1.222295</td>\n",
       "    </tr>\n",
       "    <tr>\n",
       "      <th>25</th>\n",
       "      <td>0.845098</td>\n",
       "      <td>1.277065</td>\n",
       "    </tr>\n",
       "    <tr>\n",
       "      <th>26</th>\n",
       "      <td>0.903090</td>\n",
       "      <td>1.331835</td>\n",
       "    </tr>\n",
       "    <tr>\n",
       "      <th>27</th>\n",
       "      <td>0.954243</td>\n",
       "      <td>1.386605</td>\n",
       "    </tr>\n",
       "    <tr>\n",
       "      <th>28</th>\n",
       "      <td>0.954243</td>\n",
       "      <td>1.441375</td>\n",
       "    </tr>\n",
       "    <tr>\n",
       "      <th>29</th>\n",
       "      <td>0.954243</td>\n",
       "      <td>1.496144</td>\n",
       "    </tr>\n",
       "    <tr>\n",
       "      <th>...</th>\n",
       "      <td>...</td>\n",
       "      <td>...</td>\n",
       "    </tr>\n",
       "    <tr>\n",
       "      <th>68</th>\n",
       "      <td>4.048830</td>\n",
       "      <td>3.632169</td>\n",
       "    </tr>\n",
       "    <tr>\n",
       "      <th>69</th>\n",
       "      <td>4.099301</td>\n",
       "      <td>3.686938</td>\n",
       "    </tr>\n",
       "    <tr>\n",
       "      <th>70</th>\n",
       "      <td>4.139753</td>\n",
       "      <td>3.741708</td>\n",
       "    </tr>\n",
       "    <tr>\n",
       "      <th>71</th>\n",
       "      <td>4.178286</td>\n",
       "      <td>3.796478</td>\n",
       "    </tr>\n",
       "    <tr>\n",
       "      <th>72</th>\n",
       "      <td>4.211761</td>\n",
       "      <td>3.851248</td>\n",
       "    </tr>\n",
       "    <tr>\n",
       "      <th>73</th>\n",
       "      <td>4.244030</td>\n",
       "      <td>3.906018</td>\n",
       "    </tr>\n",
       "    <tr>\n",
       "      <th>74</th>\n",
       "      <td>4.279735</td>\n",
       "      <td>3.960788</td>\n",
       "    </tr>\n",
       "    <tr>\n",
       "      <th>75</th>\n",
       "      <td>4.305158</td>\n",
       "      <td>4.015557</td>\n",
       "    </tr>\n",
       "    <tr>\n",
       "      <th>76</th>\n",
       "      <td>4.329723</td>\n",
       "      <td>4.070327</td>\n",
       "    </tr>\n",
       "    <tr>\n",
       "      <th>77</th>\n",
       "      <td>4.350655</td>\n",
       "      <td>4.125097</td>\n",
       "    </tr>\n",
       "    <tr>\n",
       "      <th>78</th>\n",
       "      <td>4.367784</td>\n",
       "      <td>4.179867</td>\n",
       "    </tr>\n",
       "    <tr>\n",
       "      <th>79</th>\n",
       "      <td>4.386214</td>\n",
       "      <td>4.234637</td>\n",
       "    </tr>\n",
       "    <tr>\n",
       "      <th>80</th>\n",
       "      <td>4.410912</td>\n",
       "      <td>4.289407</td>\n",
       "    </tr>\n",
       "    <tr>\n",
       "      <th>81</th>\n",
       "      <td>4.433081</td>\n",
       "      <td>4.344177</td>\n",
       "    </tr>\n",
       "    <tr>\n",
       "      <th>82</th>\n",
       "      <td>4.449355</td>\n",
       "      <td>4.398946</td>\n",
       "    </tr>\n",
       "    <tr>\n",
       "      <th>83</th>\n",
       "      <td>4.468318</td>\n",
       "      <td>4.453716</td>\n",
       "    </tr>\n",
       "    <tr>\n",
       "      <th>84</th>\n",
       "      <td>4.488959</td>\n",
       "      <td>4.508486</td>\n",
       "    </tr>\n",
       "    <tr>\n",
       "      <th>85</th>\n",
       "      <td>4.498917</td>\n",
       "      <td>4.563256</td>\n",
       "    </tr>\n",
       "    <tr>\n",
       "      <th>86</th>\n",
       "      <td>4.529713</td>\n",
       "      <td>4.618026</td>\n",
       "    </tr>\n",
       "    <tr>\n",
       "      <th>87</th>\n",
       "      <td>4.554416</td>\n",
       "      <td>4.672796</td>\n",
       "    </tr>\n",
       "    <tr>\n",
       "      <th>88</th>\n",
       "      <td>4.574876</td>\n",
       "      <td>4.727565</td>\n",
       "    </tr>\n",
       "    <tr>\n",
       "      <th>89</th>\n",
       "      <td>4.596971</td>\n",
       "      <td>4.782335</td>\n",
       "    </tr>\n",
       "    <tr>\n",
       "      <th>90</th>\n",
       "      <td>4.616665</td>\n",
       "      <td>4.837105</td>\n",
       "    </tr>\n",
       "    <tr>\n",
       "      <th>91</th>\n",
       "      <td>4.629308</td>\n",
       "      <td>4.891875</td>\n",
       "    </tr>\n",
       "    <tr>\n",
       "      <th>92</th>\n",
       "      <td>4.640392</td>\n",
       "      <td>4.946645</td>\n",
       "    </tr>\n",
       "    <tr>\n",
       "      <th>93</th>\n",
       "      <td>4.655215</td>\n",
       "      <td>5.001415</td>\n",
       "    </tr>\n",
       "    <tr>\n",
       "      <th>94</th>\n",
       "      <td>4.668106</td>\n",
       "      <td>5.056185</td>\n",
       "    </tr>\n",
       "    <tr>\n",
       "      <th>95</th>\n",
       "      <td>4.689344</td>\n",
       "      <td>5.110954</td>\n",
       "    </tr>\n",
       "    <tr>\n",
       "      <th>96</th>\n",
       "      <td>4.703033</td>\n",
       "      <td>5.165724</td>\n",
       "    </tr>\n",
       "    <tr>\n",
       "      <th>97</th>\n",
       "      <td>4.718651</td>\n",
       "      <td>5.220494</td>\n",
       "    </tr>\n",
       "  </tbody>\n",
       "</table>\n",
       "<p>98 rows × 2 columns</p>\n",
       "</div>"
      ],
      "text/plain": [
       "      Actual  Predicted\n",
       "0   0.000000  -0.092181\n",
       "1   0.301030  -0.037411\n",
       "2   0.301030   0.017359\n",
       "3   0.301030   0.072128\n",
       "4   0.301030   0.126898\n",
       "5   0.301030   0.181668\n",
       "6   0.477121   0.236438\n",
       "7   0.477121   0.291208\n",
       "8   0.778151   0.345978\n",
       "9   0.778151   0.400748\n",
       "10  0.778151   0.455517\n",
       "11  0.778151   0.510287\n",
       "12  0.778151   0.565057\n",
       "13  0.778151   0.619827\n",
       "14  0.778151   0.674597\n",
       "15  0.778151   0.729367\n",
       "16  0.845098   0.784136\n",
       "17  0.845098   0.838906\n",
       "18  0.845098   0.893676\n",
       "19  0.845098   0.948446\n",
       "20  0.845098   1.003216\n",
       "21  0.845098   1.057986\n",
       "22  0.845098   1.112756\n",
       "23  0.845098   1.167525\n",
       "24  0.845098   1.222295\n",
       "25  0.845098   1.277065\n",
       "26  0.903090   1.331835\n",
       "27  0.954243   1.386605\n",
       "28  0.954243   1.441375\n",
       "29  0.954243   1.496144\n",
       "..       ...        ...\n",
       "68  4.048830   3.632169\n",
       "69  4.099301   3.686938\n",
       "70  4.139753   3.741708\n",
       "71  4.178286   3.796478\n",
       "72  4.211761   3.851248\n",
       "73  4.244030   3.906018\n",
       "74  4.279735   3.960788\n",
       "75  4.305158   4.015557\n",
       "76  4.329723   4.070327\n",
       "77  4.350655   4.125097\n",
       "78  4.367784   4.179867\n",
       "79  4.386214   4.234637\n",
       "80  4.410912   4.289407\n",
       "81  4.433081   4.344177\n",
       "82  4.449355   4.398946\n",
       "83  4.468318   4.453716\n",
       "84  4.488959   4.508486\n",
       "85  4.498917   4.563256\n",
       "86  4.529713   4.618026\n",
       "87  4.554416   4.672796\n",
       "88  4.574876   4.727565\n",
       "89  4.596971   4.782335\n",
       "90  4.616665   4.837105\n",
       "91  4.629308   4.891875\n",
       "92  4.640392   4.946645\n",
       "93  4.655215   5.001415\n",
       "94  4.668106   5.056185\n",
       "95  4.689344   5.110954\n",
       "96  4.703033   5.165724\n",
       "97  4.718651   5.220494\n",
       "\n",
       "[98 rows x 2 columns]"
      ]
     },
     "execution_count": 264,
     "metadata": {},
     "output_type": "execute_result"
    }
   ],
   "source": [
    "df = pd.DataFrame({'Actual': Y1[0], 'Predicted': a[0]})\n",
    "df"
   ]
  },
  {
   "cell_type": "code",
   "execution_count": 266,
   "metadata": {},
   "outputs": [
    {
     "data": {
      "image/png": "[encoded data removed]",
      "text/plain": [
       "<Figure size 432x288 with 1 Axes>"
      ]
     },
     "metadata": {},
     "output_type": "display_data"
    }
   ],
   "source": [
    "# Fitting Linear Regression to the logged dataset \n",
    "from sklearn.linear_model import LinearRegression\n",
    "lin_reg = LinearRegression().fit(X3, Y3) \n",
    "m, b = np.polyfit(X3[0], lin_reg.predict(X3)[0], 1) \n",
    "a = m*X + b\n",
    "# Visualizing the Linear Regression results\n",
    "def viz_linear():\n",
    "    plt.scatter(X3, Y3, color='red')\n",
    "    plt.plot(X3, lin_reg.predict(X3), color='blue')\n",
    "    plt.plot(X[0][:],a[0], color = 'blue')        #####Calculating will give Best line of Fit\n",
    "    plt.title('COVID-19 for California')\n",
    "    plt.xlabel('Days')\n",
    "    plt.ylabel('COVID-19 Cases(logged)')\n",
    "    plt.show()\n",
    "    return\n",
    "viz_linear()"
   ]
  },
  {
   "cell_type": "markdown",
   "metadata": {},
   "source": [
    "Predicted COVID cases for the 70th day in New York"
   ]
  },
  {
   "cell_type": "code",
   "execution_count": 253,
   "metadata": {},
   "outputs": [
    {
     "data": {
      "text/plain": [
       "13973017.278746817"
      ]
     },
     "execution_count": 253,
     "metadata": {},
     "output_type": "execute_result"
    }
   ],
   "source": [
    "10**(m*70+b)"
   ]
  },
  {
   "cell_type": "markdown",
   "metadata": {},
   "source": [
    "Although it seems as if the data shows a closer answer to the COVID-19 cases than normal regression, the logged cases gives a difference in about \"1\" which is equivalent to 10 times the value."
   ]
  },
  {
   "cell_type": "markdown",
   "metadata": {},
   "source": [
    "We took a look over how we can use linear regression to actively measure the \"n\"th day after COVID-19 recording started. Gaining more data and using different regression models can improve the predicted values. Acknowledging how the future can be is critical in a sense that we know how dangerous COVID can be outside. With current data, it seems as if COVID will only increase in the next few month if there are no strict laws or medicine for COVID-19."
   ]
  }
 ],
 "metadata": {
  "kernelspec": {
   "display_name": "conda_python3",
   "language": "python",
   "name": "conda_python3"
  },
  "language_info": {
   "codemirror_mode": {
    "name": "ipython",
    "version": 3
   },
   "file_extension": ".py",
   "mimetype": "text/x-python",
   "name": "python",
   "nbconvert_exporter": "python",
   "pygments_lexer": "ipython3",
   "version": "3.6.5"
  }
 },
 "nbformat": 4,
 "nbformat_minor": 4
}
