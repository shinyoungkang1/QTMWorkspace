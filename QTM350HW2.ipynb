{
 "cells": [
  {
   "cell_type": "markdown",
   "metadata": {
    "colab_type": "text",
    "id": "jkwoT1TzMic8"
   },
   "source": [
    "# QTM 350 HW 2\n",
    "## Group 7: Sunny Chung, Shinyoung Kang, Tim Xia, Mario Zheng\n",
    "\n"
   ]
  },
  {
   "cell_type": "markdown",
   "metadata": {
    "colab_type": "text",
    "id": "5nMiA4KN-T8J"
   },
   "source": [
    "#Biology Related Available Packages\n",
    "\n",
    "As technology improved, we don't need to do a lot of old-school work as we did in introduction to Biology courses. We used to do manual work such as transcribing and translating from the original nucleotide sequences. \n",
    "\n",
    "![Biorelatedpicture](https://github.com/shinyoungkang1/QTMWorkspace/blob/master/20ce29384b2e7ff0cdea72acaa5b1dbd7287ab00.png?raw=true)\n",
    "\n",
    "##Central Dogma of Molecular Biology: DNA makes RNA makes proteins\n",
    "\n",
    "Transcription is the process where DNA is copied(transcribed) to mRNA, which carries the information needed for protein synthesis.\n",
    "\n",
    "Translation is when the mRNA in transcription is transported out of the nucleus, into the cytoplasm, to the ribosome (the cell's protein synthesis place).\n",
    "\n",
    "![transcription and translation](https://github.com/shinyoungkang1/QTMWorkspace/blob/master/image.jfif?raw=true)\n",
    "\n",
    "\n",
    "Nowadays, the computer does all the handy-work for us."
   ]
  },
  {
   "cell_type": "markdown",
   "metadata": {
    "colab_type": "text",
    "id": "LYmdU2v9M6ta"
   },
   "source": [
    "First, lets install the package `biopython` to see how it works."
   ]
  },
  {
   "cell_type": "code",
   "execution_count": 12,
   "metadata": {
    "colab": {
     "base_uri": "https://localhost:8080/",
     "height": 123
    },
    "colab_type": "code",
    "id": "M133gwa0k04P",
    "outputId": "50aaa160-e661-4633-c0f2-f003e91fb373"
   },
   "outputs": [
    {
     "name": "stdout",
     "output_type": "stream",
     "text": [
      "Collecting biopython\n",
      "  Downloading biopython-1.76-cp37-cp37m-macosx_10_6_intel.whl (2.4 MB)\n",
      "\u001b[K     |████████████████████████████████| 2.4 MB 1.7 MB/s eta 0:00:01\n",
      "\u001b[?25hRequirement already satisfied: numpy in /Users/sunny/anaconda3/lib/python3.7/site-packages (from biopython) (1.15.4)\n",
      "Installing collected packages: biopython\n",
      "Successfully installed biopython-1.76\n"
     ]
    }
   ],
   "source": [
    "!pip install biopython"
   ]
  },
  {
   "cell_type": "markdown",
   "metadata": {
    "colab_type": "text",
    "id": "zaffj0QhlHQ7"
   },
   "source": [
    "For updating any older version of Biopython try:"
   ]
  },
  {
   "cell_type": "code",
   "execution_count": 13,
   "metadata": {
    "colab": {
     "base_uri": "https://localhost:8080/",
     "height": 139
    },
    "colab_type": "code",
    "id": "_lzge9OglDAV",
    "outputId": "7201de7a-c6b6-45f1-edc2-d675ecdb9d86"
   },
   "outputs": [
    {
     "name": "stdout",
     "output_type": "stream",
     "text": [
      "Requirement already up-to-date: biopython in /Users/sunny/anaconda3/lib/python3.7/site-packages (1.76)\r\n",
      "Requirement already satisfied, skipping upgrade: numpy in /Users/sunny/anaconda3/lib/python3.7/site-packages (from biopython) (1.15.4)\r\n"
     ]
    }
   ],
   "source": [
    "!pip install biopython --upgrade"
   ]
  },
  {
   "cell_type": "markdown",
   "metadata": {
    "colab_type": "text",
    "id": "GDe11LuulK7k"
   },
   "source": [
    "#Nucleotide Sequencing\n",
    "\n",
    "Given a nucleotide sequence, you don't want to manually transcribe and translate. Using this package, you can automatically transcribe or translate simply."
   ]
  },
  {
   "cell_type": "markdown",
   "metadata": {
    "colab_type": "text",
    "id": "npr3XH9ofCOl"
   },
   "source": [
    "From `biopython` package lets load `Seq`"
   ]
  },
  {
   "cell_type": "code",
   "execution_count": 14,
   "metadata": {
    "colab": {},
    "colab_type": "code",
    "id": "C3wNgKFwjk8F"
   },
   "outputs": [],
   "source": [
    "from Bio.Seq import Seq\n",
    "\n",
    "#create a sequence\n",
    "my_seq1 = Seq(\"CATGTAGACTAG\")"
   ]
  },
  {
   "cell_type": "markdown",
   "metadata": {
    "colab_type": "text",
    "id": "DoOvxktDjsY1"
   },
   "source": [
    "In order to get how many bases the sequence has use `print(\"seq %s is %i baes long\" % (my_seq, len(my_seq)))`\n",
    "\n",
    "`len(my_seq)` is the code that calculates how many bases the sequence has and the rest is wording for `print` command. It basically counts the number of A, T, C, and G in the sequence."
   ]
  },
  {
   "cell_type": "code",
   "execution_count": 15,
   "metadata": {
    "colab": {
     "base_uri": "https://localhost:8080/",
     "height": 34
    },
    "colab_type": "code",
    "id": "1Kecx1PvjycS",
    "outputId": "3d194a89-356a-4017-9432-185b10b93d17"
   },
   "outputs": [
    {
     "name": "stdout",
     "output_type": "stream",
     "text": [
      "seq CATGTAGACTAG is 12 bases long\n"
     ]
    }
   ],
   "source": [
    "print(\"seq %s is %i bases long\" % (my_seq1, len(my_seq1)))"
   ]
  },
  {
   "cell_type": "markdown",
   "metadata": {
    "colab_type": "text",
    "id": "Q-6kn0F3kOSO"
   },
   "source": [
    "To get the reverse complement as we learned in intro to Biology class, we use the command `my_seq.reverse_complement()`.\n",
    "\n",
    "This changes A to T, T to A, C to G, and G to C and flips order from 5' end to the 3' end."
   ]
  },
  {
   "cell_type": "code",
   "execution_count": 16,
   "metadata": {
    "colab": {
     "base_uri": "https://localhost:8080/",
     "height": 34
    },
    "colab_type": "code",
    "id": "VU2SP-3ivl99",
    "outputId": "7b7d1c7e-1255-4a21-db8e-f866826e2154"
   },
   "outputs": [
    {
     "name": "stdout",
     "output_type": "stream",
     "text": [
      "reverse complement is CTAGTCTACATG\n"
     ]
    }
   ],
   "source": [
    "print(\"reverse complement is %s\" % my_seq1.reverse_complement())"
   ]
  },
  {
   "cell_type": "markdown",
   "metadata": {
    "colab_type": "text",
    "id": "j6B2T3sVvnOE"
   },
   "source": [
    "Next step is to see how to auto-translate. Translation is changing T to U. Then after dividing the sequence into three bases such as \"AUG\", we assign the corresponding protein to the three letter base."
   ]
  },
  {
   "cell_type": "markdown",
   "metadata": {
    "colab_type": "text",
    "id": "Zg3JiMjS_cNP"
   },
   "source": [
    "Now that we know how translation works, lets look at multiple sequences."
   ]
  },
  {
   "cell_type": "code",
   "execution_count": 17,
   "metadata": {
    "colab": {
     "base_uri": "https://localhost:8080/",
     "height": 68
    },
    "colab_type": "code",
    "id": "W_RnJv1alPHm",
    "outputId": "3efc6d0b-5287-4ff7-c8a8-afe84e39ee8a"
   },
   "outputs": [
    {
     "name": "stdout",
     "output_type": "stream",
     "text": [
      "seq CATGTAGACTAG is 12 bases long\n",
      "reverse complement is CTAGTCTACATG\n",
      "protein translation is HVD*\n"
     ]
    }
   ],
   "source": [
    "from Bio.Seq import Seq\n",
    "\n",
    "#create a sequence object\n",
    "my_seq1 = Seq(\"CATGTAGACTAG\")\n",
    "\n",
    "#print out some details about it\n",
    "print(\"seq %s is %i bases long\" % (my_seq1, len(my_seq1)))\n",
    "print(\"reverse complement is %s\" % my_seq1.reverse_complement())\n",
    "print(\"protein translation is %s\" % my_seq1.translate())"
   ]
  },
  {
   "cell_type": "code",
   "execution_count": 18,
   "metadata": {
    "colab": {},
    "colab_type": "code",
    "id": "oFyBCgNKjI7d"
   },
   "outputs": [],
   "source": [
    "#With these other sequence object, we can see the similar results\n",
    "my_seq2 = Seq(\"AGTACACTGGTC\")\n",
    "my_seq3 = Seq(\"AGTCCTCTGGTA\")\n",
    "my_seq4 = Seq(\"CGTGCTATGCTA\")"
   ]
  },
  {
   "cell_type": "markdown",
   "metadata": {
    "colab_type": "text",
    "id": "ZiH_VUGNmBLa"
   },
   "source": [
    "##Package For Any Majors\n",
    "###Pandas\n",
    "Pandas is a famous package that is commonly used in data manipulation. Any of the tracks mentioned in this colab could have situation where we need to store a dataset to your desktop. For example with data created from biopython, we would like to not only figure out the sequence length, reverse complement and translation, we want to store all theose data to csv. Pandas allows us to do just that."
   ]
  },
  {
   "cell_type": "code",
   "execution_count": 19,
   "metadata": {
    "colab": {},
    "colab_type": "code",
    "id": "4DnGsP_SmAny"
   },
   "outputs": [],
   "source": [
    "import pandas as pd"
   ]
  },
  {
   "cell_type": "code",
   "execution_count": 20,
   "metadata": {
    "colab": {
     "base_uri": "https://localhost:8080/",
     "height": 173
    },
    "colab_type": "code",
    "id": "OA0zHrNnoKeh",
    "outputId": "19924ecf-185b-415e-c1d3-45486c36fbcb"
   },
   "outputs": [
    {
     "data": {
      "text/html": [
       "<div>\n",
       "<style scoped>\n",
       "    .dataframe tbody tr th:only-of-type {\n",
       "        vertical-align: middle;\n",
       "    }\n",
       "\n",
       "    .dataframe tbody tr th {\n",
       "        vertical-align: top;\n",
       "    }\n",
       "\n",
       "    .dataframe thead th {\n",
       "        text-align: right;\n",
       "    }\n",
       "</style>\n",
       "<table border=\"1\" class=\"dataframe\">\n",
       "  <thead>\n",
       "    <tr style=\"text-align: right;\">\n",
       "      <th></th>\n",
       "      <th>Length</th>\n",
       "      <th>Reverse_Complement</th>\n",
       "      <th>Protein_Translation</th>\n",
       "    </tr>\n",
       "  </thead>\n",
       "  <tbody>\n",
       "    <tr>\n",
       "      <th>0</th>\n",
       "      <td>12</td>\n",
       "      <td>CTAGTCTACATG</td>\n",
       "      <td>HVD*</td>\n",
       "    </tr>\n",
       "    <tr>\n",
       "      <th>1</th>\n",
       "      <td>12</td>\n",
       "      <td>GACCAGTGTACT</td>\n",
       "      <td>STLV</td>\n",
       "    </tr>\n",
       "    <tr>\n",
       "      <th>2</th>\n",
       "      <td>12</td>\n",
       "      <td>TACCAGAGGACT</td>\n",
       "      <td>SPLV</td>\n",
       "    </tr>\n",
       "    <tr>\n",
       "      <th>3</th>\n",
       "      <td>12</td>\n",
       "      <td>TAGCATAGCACG</td>\n",
       "      <td>RAML</td>\n",
       "    </tr>\n",
       "  </tbody>\n",
       "</table>\n",
       "</div>"
      ],
      "text/plain": [
       "   Length Reverse_Complement Protein_Translation\n",
       "0      12       CTAGTCTACATG                HVD*\n",
       "1      12       GACCAGTGTACT                STLV\n",
       "2      12       TACCAGAGGACT                SPLV\n",
       "3      12       TAGCATAGCACG                RAML"
      ]
     },
     "execution_count": 20,
     "metadata": {},
     "output_type": "execute_result"
    }
   ],
   "source": [
    "#First store data into list. I made sure that the data type were string or integer\n",
    "data = [[len(my_seq1), str(my_seq1.reverse_complement()),str(my_seq1.translate())],\n",
    "        [len(my_seq2), str(my_seq2.reverse_complement()),str(my_seq2.translate())],\n",
    "        [len(my_seq3), str(my_seq3.reverse_complement()),str(my_seq3.translate())],\n",
    "        [len(my_seq4), str(my_seq4.reverse_complement()),str(my_seq4.translate())]]\n",
    "#set column name for each\n",
    "columns = ['Length', 'Reverse_Complement', 'Protein_Translation']\n",
    "#Use pandas to create pandas dataframe object\n",
    "df = pd.DataFrame(data, columns=columns)\n",
    "df"
   ]
  },
  {
   "cell_type": "code",
   "execution_count": 21,
   "metadata": {
    "colab": {},
    "colab_type": "code",
    "id": "LxN-3knKvGem"
   },
   "outputs": [],
   "source": [
    "#now save to your desktop! what goes between quotation should be C:/Users/abc/Desktop/file_name.csv\n",
    "#this can be found by right clicking the file you want to save it to, under \"where\". Copy and paste and you're done!\n",
    "df.to_csv('bio.csv')\n",
    "#in case of colab, after you run this line of code, \n",
    "#you'll see the bio.csv when you click file icon on left side of colab."
   ]
  },
  {
   "cell_type": "markdown",
   "metadata": {},
   "source": [
    "Github repo to this file: https://github.com/shinyoungkang1/QTMWorkspace"
   ]
  }
 ],
 "metadata": {
  "colab": {
   "collapsed_sections": [],
   "name": "QTM350HW2.ipynb",
   "provenance": []
  },
  "kernelspec": {
   "display_name": "Python 3",
   "language": "python",
   "name": "python3"
  },
  "language_info": {
   "codemirror_mode": {
    "name": "ipython",
    "version": 3
   },
   "file_extension": ".py",
   "mimetype": "text/x-python",
   "name": "python",
   "nbconvert_exporter": "python",
   "pygments_lexer": "ipython3",
   "version": "3.7.1"
  }
 },
 "nbformat": 4,
 "nbformat_minor": 1
}
