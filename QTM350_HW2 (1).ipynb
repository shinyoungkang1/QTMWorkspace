{
  "nbformat": 4,
  "nbformat_minor": 0,
  "metadata": {
    "colab": {
      "name": "QTM350_HW2.ipynb",
      "provenance": [],
      "collapsed_sections": []
    },
    "kernelspec": {
      "name": "python3",
      "display_name": "Python 3"
    }
  },
  "cells": [
    {
      "cell_type": "markdown",
      "metadata": {
        "id": "jkwoT1TzMic8",
        "colab_type": "text"
      },
      "source": [
        "#QTM 350 HW 2: Introduction to \n",
        "## Group 7: Sunny Chung, Shinyoung Kang, Tim Xia, Mario Zheng\n",
        "\n"
      ]
    },
    {
      "cell_type": "markdown",
      "metadata": {
        "id": "5nMiA4KN-T8J",
        "colab_type": "text"
      },
      "source": [
        "#Biology Related Available Packages\n",
        "\n",
        "As technology improved, we don't need to do a lot of old-school work as we did in introduction to Biology courses. We used to do manual work such as transcribing and translating from the original nucleotide sequences. \n",
        "\n",
        "![Biorelatedpicture](https://github.com/shinyoungkang1/QTMWorkspace/blob/master/20ce29384b2e7ff0cdea72acaa5b1dbd7287ab00.png?raw=true)\n",
        "\n",
        "##Central Dogma of Molecular Biology: DNA makes RNA makes proteins\n",
        "\n",
        "Transcription is the process where DNA is copied(transcribed) to mRNA, which carries the information needed for protein synthesis.\n",
        "\n",
        "Translation is when the mRNA in transcription is transported out of the nucleus, into the cytoplasm, to the ribosome (the cell's protein synthesis place).\n",
        "\n",
        "![transcription and translation](https://github.com/shinyoungkang1/QTMWorkspace/blob/master/image.jfif?raw=true)\n",
        "\n",
        "\n",
        "Nowadays, the computer does all the handy-work for us."
      ]
    },
    {
      "cell_type": "markdown",
      "metadata": {
        "id": "LYmdU2v9M6ta",
        "colab_type": "text"
      },
      "source": [
        "First, lets install the package `biopython` to see how it works."
      ]
    },
    {
      "cell_type": "code",
      "metadata": {
        "id": "M133gwa0k04P",
        "colab_type": "code",
        "outputId": "50aaa160-e661-4633-c0f2-f003e91fb373",
        "colab": {
          "base_uri": "https://localhost:8080/",
          "height": 123
        }
      },
      "source": [
        "pip install biopython"
      ],
      "execution_count": 0,
      "outputs": [
        {
          "output_type": "stream",
          "text": [
            "Collecting biopython\n",
            "\u001b[?25l  Downloading https://files.pythonhosted.org/packages/83/3d/e0c8a993dbea1136be90c31345aefc5babdd5046cd52f81c18fc3fdad865/biopython-1.76-cp36-cp36m-manylinux1_x86_64.whl (2.3MB)\n",
            "\u001b[K     |████████████████████████████████| 2.3MB 3.4MB/s \n",
            "\u001b[?25hRequirement already satisfied: numpy in /usr/local/lib/python3.6/dist-packages (from biopython) (1.18.2)\n",
            "Installing collected packages: biopython\n",
            "Successfully installed biopython-1.76\n"
          ],
          "name": "stdout"
        }
      ]
    },
    {
      "cell_type": "markdown",
      "metadata": {
        "id": "zaffj0QhlHQ7",
        "colab_type": "text"
      },
      "source": [
        "For updating any older version of Biopython try:"
      ]
    },
    {
      "cell_type": "code",
      "metadata": {
        "id": "_lzge9OglDAV",
        "colab_type": "code",
        "outputId": "7201de7a-c6b6-45f1-edc2-d675ecdb9d86",
        "colab": {
          "base_uri": "https://localhost:8080/",
          "height": 139
        }
      },
      "source": [
        "pip install biopython --upgrade"
      ],
      "execution_count": 0,
      "outputs": [
        {
          "output_type": "stream",
          "text": [
            "Collecting biopython\n",
            "\u001b[?25l  Downloading https://files.pythonhosted.org/packages/83/3d/e0c8a993dbea1136be90c31345aefc5babdd5046cd52f81c18fc3fdad865/biopython-1.76-cp36-cp36m-manylinux1_x86_64.whl (2.3MB)\n",
            "\u001b[K     |████████████████████████████████| 2.3MB 2.7MB/s \n",
            "\u001b[?25hRequirement already satisfied, skipping upgrade: numpy in /usr/local/lib/python3.6/dist-packages (from biopython) (1.18.2)\n",
            "Installing collected packages: biopython\n",
            "Successfully installed biopython-1.76\n"
          ],
          "name": "stdout"
        }
      ]
    },
    {
      "cell_type": "markdown",
      "metadata": {
        "id": "GDe11LuulK7k",
        "colab_type": "text"
      },
      "source": [
        "#Nucleotide Sequencing\n",
        "\n",
        "Given a nucleotide sequence, you don't want to manually transcribe and translate. Using this package, you can automatically transcribe or translate simply."
      ]
    },
    {
      "cell_type": "markdown",
      "metadata": {
        "id": "npr3XH9ofCOl",
        "colab_type": "text"
      },
      "source": [
        "From `biopython` package lets load `Seq`"
      ]
    },
    {
      "cell_type": "code",
      "metadata": {
        "id": "C3wNgKFwjk8F",
        "colab_type": "code",
        "colab": {}
      },
      "source": [
        "from Bio.Seq import Seq\n",
        "\n",
        "#create a sequence\n",
        "my_seq1 = Seq(\"CATGTAGACTAG\")"
      ],
      "execution_count": 0,
      "outputs": []
    },
    {
      "cell_type": "markdown",
      "metadata": {
        "id": "DoOvxktDjsY1",
        "colab_type": "text"
      },
      "source": [
        "In order to get how many bases the sequence has use `print(\"seq %s is %i baes long\" % (my_seq, len(my_seq)))`\n",
        "\n",
        "`len(my_seq)` is the code that calculates how many bases the sequence has and the rest is wording for `print` command. It basically counts the number of A, T, C, and G in the sequence."
      ]
    },
    {
      "cell_type": "code",
      "metadata": {
        "id": "1Kecx1PvjycS",
        "colab_type": "code",
        "outputId": "3d194a89-356a-4017-9432-185b10b93d17",
        "colab": {
          "base_uri": "https://localhost:8080/",
          "height": 34
        }
      },
      "source": [
        "print(\"seq %s is %i bases long\" % (my_seq1, len(my_seq1)))"
      ],
      "execution_count": 0,
      "outputs": [
        {
          "output_type": "stream",
          "text": [
            "seq CATGTAGACTAG is 12 bases long\n"
          ],
          "name": "stdout"
        }
      ]
    },
    {
      "cell_type": "markdown",
      "metadata": {
        "id": "Q-6kn0F3kOSO",
        "colab_type": "text"
      },
      "source": [
        "To get the reverse complement as we learned in intro to Biology class, we use the command `my_seq.reverse_complement()`.\n",
        "\n",
        "This changes A to T, T to A, C to G, and G to C and flips order from 5' end to the 3' end."
      ]
    },
    {
      "cell_type": "code",
      "metadata": {
        "id": "VU2SP-3ivl99",
        "colab_type": "code",
        "outputId": "7b7d1c7e-1255-4a21-db8e-f866826e2154",
        "colab": {
          "base_uri": "https://localhost:8080/",
          "height": 34
        }
      },
      "source": [
        "print(\"reverse complement is %s\" % my_seq1.reverse_complement())"
      ],
      "execution_count": 0,
      "outputs": [
        {
          "output_type": "stream",
          "text": [
            "reverse complement is CTAGTCTACATG\n"
          ],
          "name": "stdout"
        }
      ]
    },
    {
      "cell_type": "markdown",
      "metadata": {
        "id": "j6B2T3sVvnOE",
        "colab_type": "text"
      },
      "source": [
        "Next step is to see how to auto-translate. Translation is changing T to U. Then after dividing the sequence into three bases such as \"AUG\", we assign the corresponding protein to the three letter base."
      ]
    },
    {
      "cell_type": "markdown",
      "metadata": {
        "id": "Zg3JiMjS_cNP",
        "colab_type": "text"
      },
      "source": [
        "Now that we know how translation works, lets look at multiple sequences."
      ]
    },
    {
      "cell_type": "code",
      "metadata": {
        "id": "W_RnJv1alPHm",
        "colab_type": "code",
        "outputId": "3efc6d0b-5287-4ff7-c8a8-afe84e39ee8a",
        "colab": {
          "base_uri": "https://localhost:8080/",
          "height": 68
        }
      },
      "source": [
        "from Bio.Seq import Seq\n",
        "\n",
        "#create a sequence object\n",
        "my_seq1 = Seq(\"CATGTAGACTAG\")\n",
        "\n",
        "#print out some details about it\n",
        "print(\"seq %s is %i bases long\" % (my_seq1, len(my_seq1)))\n",
        "print(\"reverse complement is %s\" % my_seq1.reverse_complement())\n",
        "print(\"protein translation is %s\" % my_seq1.translate())"
      ],
      "execution_count": 0,
      "outputs": [
        {
          "output_type": "stream",
          "text": [
            "seq CATGTAGACTAG is 12 bases long\n",
            "reverse complement is CTAGTCTACATG\n",
            "protein translation is HVD*\n"
          ],
          "name": "stdout"
        }
      ]
    },
    {
      "cell_type": "code",
      "metadata": {
        "id": "oFyBCgNKjI7d",
        "colab_type": "code",
        "colab": {}
      },
      "source": [
        "#With these other sequence object, we can see the similar results\n",
        "my_seq2 = Seq(\"AGTACACTGGTC\")\n",
        "my_seq3 = Seq(\"AGTCCTCTGGTA\")\n",
        "my_seq4 = Seq(\"CGTGCTATGCTA\")"
      ],
      "execution_count": 0,
      "outputs": []
    },
    {
      "cell_type": "markdown",
      "metadata": {
        "id": "ZiH_VUGNmBLa",
        "colab_type": "text"
      },
      "source": [
        "##Package For Any Majors\n",
        "###Pandas\n",
        "Pandas is a famous package that is commonly used in data manipulation. Any of the tracks mentioned in this colab could have situation where we need to store a dataset to your desktop. For example with data created from biopython, we would like to not only figure out the sequence length, reverse complement and translation, we want to store all theose data to csv. Pandas allows us to do just that."
      ]
    },
    {
      "cell_type": "code",
      "metadata": {
        "id": "4DnGsP_SmAny",
        "colab_type": "code",
        "colab": {}
      },
      "source": [
        "import pandas as pd"
      ],
      "execution_count": 0,
      "outputs": []
    },
    {
      "cell_type": "code",
      "metadata": {
        "id": "OA0zHrNnoKeh",
        "colab_type": "code",
        "outputId": "19924ecf-185b-415e-c1d3-45486c36fbcb",
        "colab": {
          "base_uri": "https://localhost:8080/",
          "height": 173
        }
      },
      "source": [
        "#First store data into list. I made sure that the data type were string or integer\n",
        "data = [[len(my_seq1), str(my_seq1.reverse_complement()),str(my_seq1.translate())],\n",
        "        [len(my_seq2), str(my_seq2.reverse_complement()),str(my_seq2.translate())],\n",
        "        [len(my_seq3), str(my_seq3.reverse_complement()),str(my_seq3.translate())],\n",
        "        [len(my_seq4), str(my_seq4.reverse_complement()),str(my_seq4.translate())]]\n",
        "#set column name for each\n",
        "columns = ['Length', 'Reverse_Complement', 'Protein_Translation']\n",
        "#Use pandas to create pandas dataframe object\n",
        "df = pd.DataFrame(data, columns=columns)\n",
        "df"
      ],
      "execution_count": 0,
      "outputs": [
        {
          "output_type": "execute_result",
          "data": {
            "text/html": [
              "<div>\n",
              "<style scoped>\n",
              "    .dataframe tbody tr th:only-of-type {\n",
              "        vertical-align: middle;\n",
              "    }\n",
              "\n",
              "    .dataframe tbody tr th {\n",
              "        vertical-align: top;\n",
              "    }\n",
              "\n",
              "    .dataframe thead th {\n",
              "        text-align: right;\n",
              "    }\n",
              "</style>\n",
              "<table border=\"1\" class=\"dataframe\">\n",
              "  <thead>\n",
              "    <tr style=\"text-align: right;\">\n",
              "      <th></th>\n",
              "      <th>Length</th>\n",
              "      <th>Reverse_Complement</th>\n",
              "      <th>Protein_Translation</th>\n",
              "    </tr>\n",
              "  </thead>\n",
              "  <tbody>\n",
              "    <tr>\n",
              "      <th>0</th>\n",
              "      <td>12</td>\n",
              "      <td>CTAGTCTACATG</td>\n",
              "      <td>HVD*</td>\n",
              "    </tr>\n",
              "    <tr>\n",
              "      <th>1</th>\n",
              "      <td>12</td>\n",
              "      <td>GACCAGTGTACT</td>\n",
              "      <td>STLV</td>\n",
              "    </tr>\n",
              "    <tr>\n",
              "      <th>2</th>\n",
              "      <td>12</td>\n",
              "      <td>TACCAGAGGACT</td>\n",
              "      <td>SPLV</td>\n",
              "    </tr>\n",
              "    <tr>\n",
              "      <th>3</th>\n",
              "      <td>12</td>\n",
              "      <td>TAGCATAGCACG</td>\n",
              "      <td>RAML</td>\n",
              "    </tr>\n",
              "  </tbody>\n",
              "</table>\n",
              "</div>"
            ],
            "text/plain": [
              "   Length Reverse_Complement Protein_Translation\n",
              "0      12       CTAGTCTACATG                HVD*\n",
              "1      12       GACCAGTGTACT                STLV\n",
              "2      12       TACCAGAGGACT                SPLV\n",
              "3      12       TAGCATAGCACG                RAML"
            ]
          },
          "metadata": {
            "tags": []
          },
          "execution_count": 23
        }
      ]
    },
    {
      "cell_type": "code",
      "metadata": {
        "id": "LxN-3knKvGem",
        "colab_type": "code",
        "colab": {}
      },
      "source": [
        "#now save to your desktop! what goes between quotation should be C:/Users/abc/Desktop/file_name.csv\n",
        "#this can be found by right clicking the file you want to save it to, under \"where\". Copy and paste and you're done!\n",
        "df.to_csv('bio.csv')\n",
        "#in case of colab, after you run this line of code, \n",
        "#you'll see the bio.csv when you click file icon on left side of colab."
      ],
      "execution_count": 0,
      "outputs": []
    },
    {
      "cell_type": "markdown",
      "metadata": {
        "id": "SSyXgh1zzHiz",
        "colab_type": "text"
      },
      "source": [
        "https://github.com/shinyoungkang1/QTMWorkspace"
      ]
    }
  ]
}